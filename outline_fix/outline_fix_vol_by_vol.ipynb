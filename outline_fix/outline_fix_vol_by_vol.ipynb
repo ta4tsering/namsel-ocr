{
 "cells": [
  {
   "cell_type": "code",
   "execution_count": 1,
   "metadata": {},
   "outputs": [],
   "source": [
    "from pathlib import Path\n",
    "import yaml"
   ]
  },
  {
   "cell_type": "code",
   "execution_count": 2,
   "metadata": {},
   "outputs": [],
   "source": [
    "def from_yaml(yml_path):\n",
    "    return yaml.safe_load(yml_path.read_text())"
   ]
  },
  {
   "cell_type": "code",
   "execution_count": 3,
   "metadata": {},
   "outputs": [],
   "source": [
    "def to_yaml(dict_):\n",
    "    return yaml.safe_dump(dict_, sort_keys = False, allow_unicode=True)"
   ]
  },
  {
   "cell_type": "code",
   "execution_count": 4,
   "metadata": {},
   "outputs": [],
   "source": [
    "def extract_text(vol_text):\n",
    "    cur_vol_texts = {}\n",
    "    for node_id, node in vol_text.items():\n",
    "        for sub_node_id, sub_node in node['parts'].items():\n",
    "            text = {}\n",
    "            if sub_node['type'] == 'text' and sub_node['parts'] == {}:\n",
    "                text[sub_node_id] = sub_node\n",
    "                cur_vol_texts.update(text)\n",
    "    return cur_vol_texts"
   ]
  },
  {
   "cell_type": "code",
   "execution_count": 5,
   "metadata": {},
   "outputs": [],
   "source": [
    "def reconstruct_text(old_text, durchen_span):\n",
    "    new_pg_end = int(old_text['pg_end']) - (int(old_text['img_loc_end']) - durchen_span['start'])\n",
    "    durchen = {\n",
    "        'title': f\"{old_text['title']}བསྡུར་མཆན\",\n",
    "        'type': 'chapter',\n",
    "        'img_loc_start': str(durchen_span['start']),\n",
    "        'img_loc_end': str(durchen_span['end']),\n",
    "        'pg_start': str(new_pg_end),\n",
    "        'pg_end': str(old_text['pg_end']),\n",
    "        'vol': old_text['vol'],\n",
    "        'parts': {}\n",
    "    }\n",
    "    new_text = {\n",
    "        'title': old_text['title'],\n",
    "        'img_loc_start': str(old_text['img_loc_start']),\n",
    "        'img_loc_end': str(durchen_span['start']),\n",
    "        'pg_start': str(old_text['pg_start']),\n",
    "        'pg_end': str(new_pg_end),\n",
    "        'vol': old_text['vol'],\n",
    "        'durchen': durchen \n",
    "    }\n",
    "    return new_text"
   ]
  },
  {
   "cell_type": "code",
   "execution_count": 6,
   "metadata": {},
   "outputs": [],
   "source": [
    "def reconstruct_vol_text(cur_vol_texts, durchens_span):\n",
    "    new_vol_text = {}\n",
    "    for (old_text_id, old_text), durchen_span in zip(cur_vol_texts.items(), durchens_span.values()):\n",
    "        cur_text = {}\n",
    "        new_text = reconstruct_text(old_text, durchen_span)\n",
    "        cur_text[old_text_id] = new_text\n",
    "        new_vol_text.update(cur_text)\n",
    "    return new_vol_text"
   ]
  },
  {
   "cell_type": "code",
   "execution_count": 11,
   "metadata": {},
   "outputs": [],
   "source": [
    "def flow():\n",
    "    incomplete_texts = list(Path('./incomplete_text').iterdir())\n",
    "    incomplete_texts.sort()\n",
    "    durchen_spans = list(Path('./durchen_span').iterdir())\n",
    "    durchen_spans.sort()\n",
    "    for vol_incomplete_text, vol_durchen_span in zip(incomplete_texts[18:19], durchen_spans[18:19]):\n",
    "        cur_vol_texts_yml = from_yaml(vol_incomplete_text)\n",
    "        cur_vol_durchen_spans = from_yaml(vol_durchen_span)\n",
    "        cur_vol_texts = extract_text(cur_vol_texts_yml)\n",
    "        new_vol_text = reconstruct_vol_text(cur_vol_texts, cur_vol_durchen_spans)\n",
    "        new_vol_text_yml = to_yaml(new_vol_text)\n",
    "        Path(f'./complete_text/{vol_incomplete_text.stem}.yml').write_text(new_vol_text_yml, encoding='utf-8')\n",
    "        print(f'{vol_incomplete_text.stem}and {vol_durchen_span} completed..')"
   ]
  },
  {
   "cell_type": "code",
   "execution_count": 12,
   "metadata": {},
   "outputs": [
    {
     "name": "stdout",
     "output_type": "stream",
     "text": [
      "v098and durchen_span/v098.yml completed..\n"
     ]
    }
   ],
   "source": [
    "flow()"
   ]
  },
  {
   "cell_type": "code",
   "execution_count": null,
   "metadata": {},
   "outputs": [],
   "source": []
  },
  {
   "cell_type": "code",
   "execution_count": null,
   "metadata": {},
   "outputs": [],
   "source": []
  }
 ],
 "metadata": {
  "kernelspec": {
   "display_name": "Python 3",
   "language": "python",
   "name": "python3"
  },
  "language_info": {
   "codemirror_mode": {
    "name": "ipython",
    "version": 3
   },
   "file_extension": ".py",
   "mimetype": "text/x-python",
   "name": "python",
   "nbconvert_exporter": "python",
   "pygments_lexer": "ipython3",
   "version": "3.6.9"
  }
 },
 "nbformat": 4,
 "nbformat_minor": 2
}
