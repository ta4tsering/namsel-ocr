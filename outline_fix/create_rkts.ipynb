{
 "cells": [
  {
   "cell_type": "code",
   "execution_count": 2,
   "metadata": {},
   "outputs": [],
   "source": [
    "import yaml\n",
    "from pathlib import Path"
   ]
  },
  {
   "cell_type": "code",
   "execution_count": 3,
   "metadata": {},
   "outputs": [],
   "source": [
    "def from_yaml(yml_path):\n",
    "    return yaml.safe_load(yml_path.read_text(encoding='utf-8'))"
   ]
  },
  {
   "cell_type": "code",
   "execution_count": 12,
   "metadata": {},
   "outputs": [],
   "source": [
    "def get_item(text,rkts_id):\n",
    "    cur_item = f\"\"\"<item>\n",
    "<rkts>{rkts_id}</rkts>\n",
    "<ref>-</ref>\n",
    "<refRN>-</refRN>\n",
    "<loc></loc>\n",
    "<loctbrc>rnying rgyud/ ga)</loctbrc>\n",
    "<tib>{text['title']}</tib>\n",
    "<skttrans></skttrans>\n",
    "<coloph></coloph>\n",
    "<note></note>\n",
    "</item>\n",
    "\n",
    "\"\"\"\n",
    "    return cur_item"
   ]
  },
  {
   "cell_type": "code",
   "execution_count": 13,
   "metadata": {},
   "outputs": [],
   "source": [
    "missing_texts = from_yaml(Path('./v103_missing_rkts.yml'))"
   ]
  },
  {
   "cell_type": "code",
   "execution_count": 14,
   "metadata": {},
   "outputs": [],
   "source": [
    "rkts_id = 8905\n",
    "missing_items = ''\n",
    "for text_id, text in missing_texts.items():\n",
    "    missing_items += get_item(text, rkts_id)\n",
    "    rkts_id += 1"
   ]
  },
  {
   "cell_type": "code",
   "execution_count": 15,
   "metadata": {},
   "outputs": [
    {
     "data": {
      "text/plain": [
       "1432"
      ]
     },
     "execution_count": 15,
     "metadata": {},
     "output_type": "execute_result"
    }
   ],
   "source": [
    "Path('./missing_items.xml').write_text(missing_items, encoding='utf-8')"
   ]
  },
  {
   "cell_type": "code",
   "execution_count": null,
   "metadata": {},
   "outputs": [],
   "source": []
  }
 ],
 "metadata": {
  "kernelspec": {
   "display_name": "Python 3",
   "language": "python",
   "name": "python3"
  },
  "language_info": {
   "codemirror_mode": {
    "name": "ipython",
    "version": 3
   },
   "file_extension": ".py",
   "mimetype": "text/x-python",
   "name": "python",
   "nbconvert_exporter": "python",
   "pygments_lexer": "ipython3",
   "version": "3.6.9"
  }
 },
 "nbformat": 4,
 "nbformat_minor": 2
}
