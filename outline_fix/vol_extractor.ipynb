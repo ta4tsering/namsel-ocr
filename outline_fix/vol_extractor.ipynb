{
 "cells": [
  {
   "cell_type": "code",
   "execution_count": 1,
   "metadata": {},
   "outputs": [],
   "source": [
    "from pathlib import Path\n",
    "import yaml"
   ]
  },
  {
   "cell_type": "code",
   "execution_count": 3,
   "metadata": {},
   "outputs": [],
   "source": [
    "def from_yaml(yml_path):\n",
    "    return yaml.safe_load(yml_path.read_text())"
   ]
  },
  {
   "cell_type": "code",
   "execution_count": 5,
   "metadata": {},
   "outputs": [],
   "source": [
    "def to_yaml(dict_):\n",
    "    return yaml.safe_dump(dict_, sort_keys = False, allow_unicode=True)"
   ]
  },
  {
   "cell_type": "code",
   "execution_count": 4,
   "metadata": {},
   "outputs": [],
   "source": [
    "kangyur_text = from_yaml(Path('./kanyur_pedurma_with_pg.yaml'))"
   ]
  },
  {
   "cell_type": "code",
   "execution_count": 18,
   "metadata": {},
   "outputs": [],
   "source": [
    "for section_id, section in kangyur_text.items():\n",
    "    for vol_id, vol in section['parts'].items():\n",
    "        cur_vol = {}\n",
    "        if vol['vol']:\n",
    "            if int(vol['vol']) > 83:\n",
    "                cur_vol[vol_id] = vol\n",
    "                cur_vol_yml = to_yaml(cur_vol)\n",
    "                Path(f\"./incomplete_text/v{int(vol['vol']):03}.yml\").write_text(cur_vol_yml, encoding = 'utf-8')"
   ]
  },
  {
   "cell_type": "code",
   "execution_count": null,
   "metadata": {},
   "outputs": [],
   "source": []
  }
 ],
 "metadata": {
  "kernelspec": {
   "display_name": "Python 3",
   "language": "python",
   "name": "python3"
  },
  "language_info": {
   "codemirror_mode": {
    "name": "ipython",
    "version": 3
   },
   "file_extension": ".py",
   "mimetype": "text/x-python",
   "name": "python",
   "nbconvert_exporter": "python",
   "pygments_lexer": "ipython3",
   "version": "3.6.9"
  }
 },
 "nbformat": 4,
 "nbformat_minor": 2
}
