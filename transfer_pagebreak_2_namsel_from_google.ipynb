{
 "cells": [
  {
   "cell_type": "code",
   "execution_count": 14,
   "metadata": {},
   "outputs": [],
   "source": [
    "from antx import transfer\n",
    "from pathlib import Path\n",
    "import re"
   ]
  },
  {
   "cell_type": "code",
   "execution_count": 15,
   "metadata": {},
   "outputs": [],
   "source": [
    "def annotation_transfer(source, target):\n",
    "    annotations = [['author', r'(\\[[0-9]+[a-z]{1}\\])'], ['author_end', r'(\\n)']]\n",
    "    result = transfer(source, annotations, target, output= \"txt\", optimized=True)\n",
    "    return result           "
   ]
  },
  {
   "cell_type": "code",
   "execution_count": 16,
   "metadata": {},
   "outputs": [],
   "source": [
    "def remove_annotations(target):\n",
    "    result = ''\n",
    "    result = re.sub(r'\\[[0-9]+[a-z]{1}\\]\\sI.+', '', target)\n",
    "    result = re.sub(r'\\n', '', result)\n",
    "    return result"
   ]
  },
  {
   "cell_type": "code",
   "execution_count": 17,
   "metadata": {},
   "outputs": [],
   "source": [
    "def get_content(poti_path):\n",
    "    return poti_path.read_text(encoding = 'utf-8')"
   ]
  },
  {
   "cell_type": "code",
   "execution_count": 27,
   "metadata": {},
   "outputs": [],
   "source": [
    "sources = list(Path(f'./clean_kangyur_google_text').iterdir())\n",
    "sources.sort()\n",
    "targets = list(Path(f'./numbered_kangyur_namsel').iterdir())\n",
    "targets.sort()"
   ]
  },
  {
   "cell_type": "code",
   "execution_count": 28,
   "metadata": {},
   "outputs": [
    {
     "data": {
      "text/plain": [
       "[PosixPath('numbered_kangyur_namsel/v001'),\n",
       " PosixPath('numbered_kangyur_namsel/v002'),\n",
       " PosixPath('numbered_kangyur_namsel/v003'),\n",
       " PosixPath('numbered_kangyur_namsel/v004'),\n",
       " PosixPath('numbered_kangyur_namsel/v005'),\n",
       " PosixPath('numbered_kangyur_namsel/v006'),\n",
       " PosixPath('numbered_kangyur_namsel/v007'),\n",
       " PosixPath('numbered_kangyur_namsel/v008'),\n",
       " PosixPath('numbered_kangyur_namsel/v009'),\n",
       " PosixPath('numbered_kangyur_namsel/v010'),\n",
       " PosixPath('numbered_kangyur_namsel/v011'),\n",
       " PosixPath('numbered_kangyur_namsel/v012'),\n",
       " PosixPath('numbered_kangyur_namsel/v013'),\n",
       " PosixPath('numbered_kangyur_namsel/v014'),\n",
       " PosixPath('numbered_kangyur_namsel/v015'),\n",
       " PosixPath('numbered_kangyur_namsel/v016'),\n",
       " PosixPath('numbered_kangyur_namsel/v017'),\n",
       " PosixPath('numbered_kangyur_namsel/v018'),\n",
       " PosixPath('numbered_kangyur_namsel/v019'),\n",
       " PosixPath('numbered_kangyur_namsel/v020'),\n",
       " PosixPath('numbered_kangyur_namsel/v021'),\n",
       " PosixPath('numbered_kangyur_namsel/v022'),\n",
       " PosixPath('numbered_kangyur_namsel/v023'),\n",
       " PosixPath('numbered_kangyur_namsel/v024'),\n",
       " PosixPath('numbered_kangyur_namsel/v025'),\n",
       " PosixPath('numbered_kangyur_namsel/v026'),\n",
       " PosixPath('numbered_kangyur_namsel/v027'),\n",
       " PosixPath('numbered_kangyur_namsel/v028'),\n",
       " PosixPath('numbered_kangyur_namsel/v029'),\n",
       " PosixPath('numbered_kangyur_namsel/v030'),\n",
       " PosixPath('numbered_kangyur_namsel/v031'),\n",
       " PosixPath('numbered_kangyur_namsel/v032'),\n",
       " PosixPath('numbered_kangyur_namsel/v033'),\n",
       " PosixPath('numbered_kangyur_namsel/v034'),\n",
       " PosixPath('numbered_kangyur_namsel/v035'),\n",
       " PosixPath('numbered_kangyur_namsel/v036'),\n",
       " PosixPath('numbered_kangyur_namsel/v037'),\n",
       " PosixPath('numbered_kangyur_namsel/v038'),\n",
       " PosixPath('numbered_kangyur_namsel/v039'),\n",
       " PosixPath('numbered_kangyur_namsel/v040'),\n",
       " PosixPath('numbered_kangyur_namsel/v041'),\n",
       " PosixPath('numbered_kangyur_namsel/v042'),\n",
       " PosixPath('numbered_kangyur_namsel/v043'),\n",
       " PosixPath('numbered_kangyur_namsel/v044'),\n",
       " PosixPath('numbered_kangyur_namsel/v045'),\n",
       " PosixPath('numbered_kangyur_namsel/v046'),\n",
       " PosixPath('numbered_kangyur_namsel/v047'),\n",
       " PosixPath('numbered_kangyur_namsel/v048'),\n",
       " PosixPath('numbered_kangyur_namsel/v049'),\n",
       " PosixPath('numbered_kangyur_namsel/v050'),\n",
       " PosixPath('numbered_kangyur_namsel/v051'),\n",
       " PosixPath('numbered_kangyur_namsel/v052'),\n",
       " PosixPath('numbered_kangyur_namsel/v053'),\n",
       " PosixPath('numbered_kangyur_namsel/v054'),\n",
       " PosixPath('numbered_kangyur_namsel/v055'),\n",
       " PosixPath('numbered_kangyur_namsel/v056'),\n",
       " PosixPath('numbered_kangyur_namsel/v057'),\n",
       " PosixPath('numbered_kangyur_namsel/v058'),\n",
       " PosixPath('numbered_kangyur_namsel/v059'),\n",
       " PosixPath('numbered_kangyur_namsel/v060'),\n",
       " PosixPath('numbered_kangyur_namsel/v061'),\n",
       " PosixPath('numbered_kangyur_namsel/v062'),\n",
       " PosixPath('numbered_kangyur_namsel/v063'),\n",
       " PosixPath('numbered_kangyur_namsel/v064'),\n",
       " PosixPath('numbered_kangyur_namsel/v065'),\n",
       " PosixPath('numbered_kangyur_namsel/v066'),\n",
       " PosixPath('numbered_kangyur_namsel/v067'),\n",
       " PosixPath('numbered_kangyur_namsel/v068'),\n",
       " PosixPath('numbered_kangyur_namsel/v069'),\n",
       " PosixPath('numbered_kangyur_namsel/v070'),\n",
       " PosixPath('numbered_kangyur_namsel/v071'),\n",
       " PosixPath('numbered_kangyur_namsel/v072'),\n",
       " PosixPath('numbered_kangyur_namsel/v073'),\n",
       " PosixPath('numbered_kangyur_namsel/v074'),\n",
       " PosixPath('numbered_kangyur_namsel/v075'),\n",
       " PosixPath('numbered_kangyur_namsel/v076'),\n",
       " PosixPath('numbered_kangyur_namsel/v077'),\n",
       " PosixPath('numbered_kangyur_namsel/v078'),\n",
       " PosixPath('numbered_kangyur_namsel/v079'),\n",
       " PosixPath('numbered_kangyur_namsel/v080'),\n",
       " PosixPath('numbered_kangyur_namsel/v081'),\n",
       " PosixPath('numbered_kangyur_namsel/v082'),\n",
       " PosixPath('numbered_kangyur_namsel/v083'),\n",
       " PosixPath('numbered_kangyur_namsel/v084'),\n",
       " PosixPath('numbered_kangyur_namsel/v085'),\n",
       " PosixPath('numbered_kangyur_namsel/v086'),\n",
       " PosixPath('numbered_kangyur_namsel/v087'),\n",
       " PosixPath('numbered_kangyur_namsel/v088'),\n",
       " PosixPath('numbered_kangyur_namsel/v089'),\n",
       " PosixPath('numbered_kangyur_namsel/v090'),\n",
       " PosixPath('numbered_kangyur_namsel/v091'),\n",
       " PosixPath('numbered_kangyur_namsel/v092'),\n",
       " PosixPath('numbered_kangyur_namsel/v093'),\n",
       " PosixPath('numbered_kangyur_namsel/v094'),\n",
       " PosixPath('numbered_kangyur_namsel/v095'),\n",
       " PosixPath('numbered_kangyur_namsel/v096'),\n",
       " PosixPath('numbered_kangyur_namsel/v097'),\n",
       " PosixPath('numbered_kangyur_namsel/v098'),\n",
       " PosixPath('numbered_kangyur_namsel/v099'),\n",
       " PosixPath('numbered_kangyur_namsel/v100'),\n",
       " PosixPath('numbered_kangyur_namsel/v101'),\n",
       " PosixPath('numbered_kangyur_namsel/v102'),\n",
       " PosixPath('numbered_kangyur_namsel/v103'),\n",
       " PosixPath('numbered_kangyur_namsel/v104'),\n",
       " PosixPath('numbered_kangyur_namsel/v105'),\n",
       " PosixPath('numbered_kangyur_namsel/v106'),\n",
       " PosixPath('numbered_kangyur_namsel/v107'),\n",
       " PosixPath('numbered_kangyur_namsel/v108')]"
      ]
     },
     "execution_count": 28,
     "metadata": {},
     "output_type": "execute_result"
    }
   ],
   "source": [
    "targets"
   ]
  },
  {
   "cell_type": "code",
   "execution_count": null,
   "metadata": {},
   "outputs": [
    {
     "name": "stdout",
     "output_type": "stream",
     "text": [
      "v055 and v054processing\n",
      "Annotation transfer started...\n",
      "Mapping annotations to tofu-IDs\n",
      "[INFO] Computing diffs ...\n",
      "[INFO] Diff computed!\n",
      "Transfering annotations...\n",
      "v055 completed..\n",
      "v056 and v055processing\n",
      "Annotation transfer started...\n",
      "Mapping annotations to tofu-IDs\n",
      "[INFO] Computing diffs ...\n",
      "[INFO] Diff computed!\n",
      "Transfering annotations...\n",
      "v056 completed..\n",
      "v057 and v056processing\n",
      "Annotation transfer started...\n",
      "Mapping annotations to tofu-IDs\n",
      "[INFO] Computing diffs ...\n"
     ]
    }
   ],
   "source": [
    "for source_vol, target_vol in zip(sources[54:],targets[53:]):\n",
    "    print(f'{source_vol.stem} and {target_vol.stem}processing')\n",
    "    source = get_content(source_vol)\n",
    "    target = get_content(target_vol)\n",
    "    target = remove_annotations(target)\n",
    "    updated_vol = annotation_transfer(source, target)\n",
    "    Path(f'./kangyur_namsel_transfered/{source_vol.stem}.txt').write_text(updated_vol, encoding='utf-8')\n",
    "    print(f'{source_vol.stem} completed..')"
   ]
  },
  {
   "cell_type": "code",
   "execution_count": 11,
   "metadata": {},
   "outputs": [],
   "source": [
    "text = \"\"\"[5a] I1PD967840012\n",
    "འདུལ་བ། (སྤྱིལྗི (༡)༠༠༠༡ འདུལ་བ་གཞི། ་་་་་་་་་་་་་་་་་་་་་་་་་་་་་་་་་་་་་་་་་་་་་༣རབ་ཏུ་འབྱུང་བའི་གཞི་འཆད་པ། ་་་་་་་་་་་་་་་་་་་་་་་་་་་་་་༣ཤཱ་རིའི་བུའི་སྡེ་ཚན།་་་་་་་་་་་་་་་་་་་་་་་་་་་་་་་་་་་་་་་་་་༣མུ་སྟེགས་ཅན་གྱི་སྡེ་ཚན། ་་་་་་་་་་་་་་་་་་་་་་་་་་་་་་་་་་་་༡༦༨དགེ་ཚུལ་གཉིས་ཀྱི་སྡེ་ཚན། ་་་་་་་་་་་་་་་་་་་་་་་་་་་་་་་་་༡༧༦བྱ་རོག་སྤྲོད་ཀྱི་སྡེ་ཚན། ་་་་་་་་་་་་་་་་་་་་་་་་་་་་་་་་་་་་༡༩༧དགྲ་བཅོམ་བསད་པའི་སྡེ་ཚན། ་་་་་་་་་་་་་་་་་་་་་་་་་་་་་་༢༩༩ལག་རྡུམ་གྱི་སྡེ་ཚན། ་་་་་་་་་་་་་་་་་་་་་་་་་་་་་་་་་་་་་་་༣༠༥གསོ་སྨྱོང་གི་གཞི་འཆད་བ། ་་་་་་་་་་་་་་་་་་་་་་་་་་་་་་་་་༣༠༨མུ་སྟེགས་ཅན་གྱི་སྡེ་ཚན། ་་་་་་་་་་་་་་་་་་་་་་་་་་་་་་་་་་་་༣༠༨ཀ་བི་ནའི་སྡེ་ཚན།་་་་་་་་་་་་་་་་་་་་་་་་་་་་་་་་་་་་་་་་་་༣༢༣གནས་ཀྱི་སྡེ་ཚན།་་་་་་་་་་་་་་་་་་་་་་་་་་་་་་་་་་་་་་་་་་༣༤༦རྒྱལ་པོའི་སྡེ་ཚན།་་་་་་་་་་་་་་་་་་་་་་་་་་་་་་་་་་་་་་་་་་༣༥༧སྦྱར་བ་མང་པོའི་སྡེ་ཚན། ་་་་་་་་་་་་་་་་་་་་་་་་་་་་་་་་་་་་༣༧༣— 1\"\"\""
   ]
  },
  {
   "cell_type": "code",
   "execution_count": 12,
   "metadata": {},
   "outputs": [],
   "source": [
    "t = remove_annotations(text)"
   ]
  },
  {
   "cell_type": "code",
   "execution_count": 13,
   "metadata": {},
   "outputs": [
    {
     "data": {
      "text/plain": [
       "'འདུལ་བ། (སྤྱིལྗི (༡)༠༠༠༡ འདུལ་བ་གཞི། ་་་་་་་་་་་་་་་་་་་་་་་་་་་་་་་་་་་་་་་་་་་་་༣རབ་ཏུ་འབྱུང་བའི་གཞི་འཆད་པ། ་་་་་་་་་་་་་་་་་་་་་་་་་་་་་་༣ཤཱ་རིའི་བུའི་སྡེ་ཚན།་་་་་་་་་་་་་་་་་་་་་་་་་་་་་་་་་་་་་་་་་་༣མུ་སྟེགས་ཅན་གྱི་སྡེ་ཚན། ་་་་་་་་་་་་་་་་་་་་་་་་་་་་་་་་་་་་༡༦༨དགེ་ཚུལ་གཉིས་ཀྱི་སྡེ་ཚན། ་་་་་་་་་་་་་་་་་་་་་་་་་་་་་་་་་༡༧༦བྱ་རོག་སྤྲོད་ཀྱི་སྡེ་ཚན། ་་་་་་་་་་་་་་་་་་་་་་་་་་་་་་་་་་་་༡༩༧དགྲ་བཅོམ་བསད་པའི་སྡེ་ཚན། ་་་་་་་་་་་་་་་་་་་་་་་་་་་་་་༢༩༩ལག་རྡུམ་གྱི་སྡེ་ཚན། ་་་་་་་་་་་་་་་་་་་་་་་་་་་་་་་་་་་་་་་༣༠༥གསོ་སྨྱོང་གི་གཞི་འཆད་བ། ་་་་་་་་་་་་་་་་་་་་་་་་་་་་་་་་་༣༠༨མུ་སྟེགས་ཅན་གྱི་སྡེ་ཚན། ་་་་་་་་་་་་་་་་་་་་་་་་་་་་་་་་་་་་༣༠༨ཀ་བི་ནའི་སྡེ་ཚན།་་་་་་་་་་་་་་་་་་་་་་་་་་་་་་་་་་་་་་་་་་༣༢༣གནས་ཀྱི་སྡེ་ཚན།་་་་་་་་་་་་་་་་་་་་་་་་་་་་་་་་་་་་་་་་་་༣༤༦རྒྱལ་པོའི་སྡེ་ཚན།་་་་་་་་་་་་་་་་་་་་་་་་་་་་་་་་་་་་་་་་་་༣༥༧སྦྱར་བ་མང་པོའི་སྡེ་ཚན། ་་་་་་་་་་་་་་་་་་་་་་་་་་་་་་་་་་་་༣༧༣— 1'"
      ]
     },
     "execution_count": 13,
     "metadata": {},
     "output_type": "execute_result"
    }
   ],
   "source": [
    "t"
   ]
  },
  {
   "cell_type": "code",
   "execution_count": null,
   "metadata": {},
   "outputs": [],
   "source": [
    "this the world of the greatst showman ever lived called tenzin kunsang\n"
   ]
  }
 ],
 "metadata": {
  "kernelspec": {
   "display_name": "Python 3",
   "language": "python",
   "name": "python3"
  },
  "language_info": {
   "codemirror_mode": {
    "name": "ipython",
    "version": 3
   },
   "file_extension": ".py",
   "mimetype": "text/x-python",
   "name": "python",
   "nbconvert_exporter": "python",
   "pygments_lexer": "ipython3",
   "version": "3.6.9"
  }
 },
 "nbformat": 4,
 "nbformat_minor": 4
}
