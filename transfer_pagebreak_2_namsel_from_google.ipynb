{
 "cells": [
  {
   "cell_type": "code",
   "execution_count": 1,
   "metadata": {},
   "outputs": [],
   "source": [
    "from antx import transfer\n",
    "from pathlib import Path\n",
    "import re"
   ]
  },
  {
   "cell_type": "code",
   "execution_count": 2,
   "metadata": {},
   "outputs": [],
   "source": [
    "def annotation_transfer(source, target):\n",
    "    annotations = [['author', r'(\\[[0-9]+[a-z]{1}\\])'], ['author_end', r'(\\n)']]\n",
    "    result = transfer(source, annotations, target, output= \"txt\", optimized=True)\n",
    "    return result           "
   ]
  },
  {
   "cell_type": "code",
   "execution_count": 10,
   "metadata": {},
   "outputs": [],
   "source": [
    "def remove_annotations(target):\n",
    "    result = ''\n",
    "    result = re.sub(r'\\[[0-9]+[a-z]{1}\\]\\sI.+', '', target)\n",
    "    result = re.sub(r'\\n', '', result)\n",
    "    return result"
   ]
  },
  {
   "cell_type": "code",
   "execution_count": 5,
   "metadata": {},
   "outputs": [],
   "source": [
    "def get_content(poti_path):\n",
    "    return poti_path.read_text(encoding = 'utf-8')"
   ]
  },
  {
   "cell_type": "code",
   "execution_count": 6,
   "metadata": {},
   "outputs": [],
   "source": [
    "sources = list(Path(f'./clean_kangyur_google_text').iterdir())\n",
    "sources.sort()\n",
    "targets = list(Path(f'./numbered_kangyur_namsel').iterdir())\n",
    "targets.sort()"
   ]
  },
  {
   "cell_type": "code",
   "execution_count": null,
   "metadata": {},
   "outputs": [
    {
     "name": "stdout",
     "output_type": "stream",
     "text": [
      "v005 and v  5processing\n",
      "Annotation transfer started...\n",
      "Mapping annotations to tofu-IDs\n",
      "[INFO] Computing diffs ...\n",
      "[INFO] Diff computed!\n",
      "Transfering annotations...\n",
      "v005 completed..\n",
      "v006 and v  6processing\n",
      "Annotation transfer started...\n",
      "Mapping annotations to tofu-IDs\n",
      "[INFO] Computing diffs ...\n",
      "[INFO] Diff computed!\n",
      "Transfering annotations...\n",
      "v006 completed..\n",
      "v007 and v  7processing\n",
      "Annotation transfer started...\n",
      "Mapping annotations to tofu-IDs\n",
      "[INFO] Computing diffs ...\n",
      "[INFO] Diff computed!\n",
      "Transfering annotations...\n",
      "v007 completed..\n",
      "v008 and v  8processing\n",
      "Annotation transfer started...\n",
      "Mapping annotations to tofu-IDs\n",
      "[INFO] Computing diffs ...\n",
      "[INFO] Diff computed!\n",
      "Transfering annotations...\n",
      "v008 completed..\n",
      "v009 and v  9processing\n",
      "Annotation transfer started...\n",
      "Mapping annotations to tofu-IDs\n",
      "[INFO] Computing diffs ...\n",
      "[INFO] Diff computed!\n",
      "Transfering annotations...\n",
      "v009 completed..\n",
      "v010 and v 10processing\n",
      "Annotation transfer started...\n",
      "Mapping annotations to tofu-IDs\n",
      "[INFO] Computing diffs ...\n"
     ]
    }
   ],
   "source": [
    "for source_vol, target_vol in zip(sources[4:],targets[5:]):\n",
    "    print(f'{source_vol.stem} and {target_vol.stem}processing')\n",
    "    source = get_content(source_vol)\n",
    "    target = get_content(target_vol)\n",
    "    target = remove_annotations(target)\n",
    "    updated_vol = annotation_transfer(source, target)\n",
    "    Path(f'./kangyur_namsel_transfered/{source_vol.stem}.txt').write_text(updated_vol, encoding='utf-8')\n",
    "    print(f'{source_vol.stem} completed..')"
   ]
  },
  {
   "cell_type": "code",
   "execution_count": 11,
   "metadata": {},
   "outputs": [],
   "source": [
    "text = \"\"\"[5a] I1PD967840012\n",
    "འདུལ་བ། (སྤྱིལྗི (༡)༠༠༠༡ འདུལ་བ་གཞི། ་་་་་་་་་་་་་་་་་་་་་་་་་་་་་་་་་་་་་་་་་་་་་༣རབ་ཏུ་འབྱུང་བའི་གཞི་འཆད་པ། ་་་་་་་་་་་་་་་་་་་་་་་་་་་་་་༣ཤཱ་རིའི་བུའི་སྡེ་ཚན།་་་་་་་་་་་་་་་་་་་་་་་་་་་་་་་་་་་་་་་་་་༣མུ་སྟེགས་ཅན་གྱི་སྡེ་ཚན། ་་་་་་་་་་་་་་་་་་་་་་་་་་་་་་་་་་་་༡༦༨དགེ་ཚུལ་གཉིས་ཀྱི་སྡེ་ཚན། ་་་་་་་་་་་་་་་་་་་་་་་་་་་་་་་་་༡༧༦བྱ་རོག་སྤྲོད་ཀྱི་སྡེ་ཚན། ་་་་་་་་་་་་་་་་་་་་་་་་་་་་་་་་་་་་༡༩༧དགྲ་བཅོམ་བསད་པའི་སྡེ་ཚན། ་་་་་་་་་་་་་་་་་་་་་་་་་་་་་་༢༩༩ལག་རྡུམ་གྱི་སྡེ་ཚན། ་་་་་་་་་་་་་་་་་་་་་་་་་་་་་་་་་་་་་་་༣༠༥གསོ་སྨྱོང་གི་གཞི་འཆད་བ། ་་་་་་་་་་་་་་་་་་་་་་་་་་་་་་་་་༣༠༨མུ་སྟེགས་ཅན་གྱི་སྡེ་ཚན། ་་་་་་་་་་་་་་་་་་་་་་་་་་་་་་་་་་་་༣༠༨ཀ་བི་ནའི་སྡེ་ཚན།་་་་་་་་་་་་་་་་་་་་་་་་་་་་་་་་་་་་་་་་་་༣༢༣གནས་ཀྱི་སྡེ་ཚན།་་་་་་་་་་་་་་་་་་་་་་་་་་་་་་་་་་་་་་་་་་༣༤༦རྒྱལ་པོའི་སྡེ་ཚན།་་་་་་་་་་་་་་་་་་་་་་་་་་་་་་་་་་་་་་་་་་༣༥༧སྦྱར་བ་མང་པོའི་སྡེ་ཚན། ་་་་་་་་་་་་་་་་་་་་་་་་་་་་་་་་་་་་༣༧༣— 1\"\"\""
   ]
  },
  {
   "cell_type": "code",
   "execution_count": 12,
   "metadata": {},
   "outputs": [],
   "source": [
    "t = remove_annotations(text)"
   ]
  },
  {
   "cell_type": "code",
   "execution_count": 13,
   "metadata": {},
   "outputs": [
    {
     "data": {
      "text/plain": [
       "'འདུལ་བ། (སྤྱིལྗི (༡)༠༠༠༡ འདུལ་བ་གཞི། ་་་་་་་་་་་་་་་་་་་་་་་་་་་་་་་་་་་་་་་་་་་་་༣རབ་ཏུ་འབྱུང་བའི་གཞི་འཆད་པ། ་་་་་་་་་་་་་་་་་་་་་་་་་་་་་་༣ཤཱ་རིའི་བུའི་སྡེ་ཚན།་་་་་་་་་་་་་་་་་་་་་་་་་་་་་་་་་་་་་་་་་་༣མུ་སྟེགས་ཅན་གྱི་སྡེ་ཚན། ་་་་་་་་་་་་་་་་་་་་་་་་་་་་་་་་་་་་༡༦༨དགེ་ཚུལ་གཉིས་ཀྱི་སྡེ་ཚན། ་་་་་་་་་་་་་་་་་་་་་་་་་་་་་་་་་༡༧༦བྱ་རོག་སྤྲོད་ཀྱི་སྡེ་ཚན། ་་་་་་་་་་་་་་་་་་་་་་་་་་་་་་་་་་་་༡༩༧དགྲ་བཅོམ་བསད་པའི་སྡེ་ཚན། ་་་་་་་་་་་་་་་་་་་་་་་་་་་་་་༢༩༩ལག་རྡུམ་གྱི་སྡེ་ཚན། ་་་་་་་་་་་་་་་་་་་་་་་་་་་་་་་་་་་་་་་༣༠༥གསོ་སྨྱོང་གི་གཞི་འཆད་བ། ་་་་་་་་་་་་་་་་་་་་་་་་་་་་་་་་་༣༠༨མུ་སྟེགས་ཅན་གྱི་སྡེ་ཚན། ་་་་་་་་་་་་་་་་་་་་་་་་་་་་་་་་་་་་༣༠༨ཀ་བི་ནའི་སྡེ་ཚན།་་་་་་་་་་་་་་་་་་་་་་་་་་་་་་་་་་་་་་་་་་༣༢༣གནས་ཀྱི་སྡེ་ཚན།་་་་་་་་་་་་་་་་་་་་་་་་་་་་་་་་་་་་་་་་་་༣༤༦རྒྱལ་པོའི་སྡེ་ཚན།་་་་་་་་་་་་་་་་་་་་་་་་་་་་་་་་་་་་་་་་་་༣༥༧སྦྱར་བ་མང་པོའི་སྡེ་ཚན། ་་་་་་་་་་་་་་་་་་་་་་་་་་་་་་་་་་་་༣༧༣— 1'"
      ]
     },
     "execution_count": 13,
     "metadata": {},
     "output_type": "execute_result"
    }
   ],
   "source": [
    "t"
   ]
  },
  {
   "cell_type": "code",
   "execution_count": null,
   "metadata": {},
   "outputs": [],
   "source": []
  }
 ],
 "metadata": {
  "kernelspec": {
   "display_name": "Python 3",
   "language": "python",
   "name": "python3"
  },
  "language_info": {
   "codemirror_mode": {
    "name": "ipython",
    "version": 3
   },
   "file_extension": ".py",
   "mimetype": "text/x-python",
   "name": "python",
   "nbconvert_exporter": "python",
   "pygments_lexer": "ipython3",
   "version": "3.6.9"
  }
 },
 "nbformat": 4,
 "nbformat_minor": 4
}
