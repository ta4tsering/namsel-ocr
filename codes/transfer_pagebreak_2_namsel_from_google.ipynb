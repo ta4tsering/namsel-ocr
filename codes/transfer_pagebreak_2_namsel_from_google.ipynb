{
 "cells": [
  {
   "cell_type": "code",
   "execution_count": 14,
   "metadata": {},
   "outputs": [],
   "source": [
    "from antx import transfer\n",
    "from pathlib import Path\n",
    "import re"
   ]
  },
  {
   "cell_type": "code",
   "execution_count": 15,
   "metadata": {},
   "outputs": [],
   "source": [
    "def annotation_transfer(source, target):\n",
    "    annotations = [['author', r'(\\[[0-9]+[a-z]{1}\\])'], ['author_end', r'(\\n)']]\n",
    "    result = transfer(source, annotations, target, output= \"txt\", optimized=True)\n",
    "    return result           "
   ]
  },
  {
   "cell_type": "code",
   "execution_count": 16,
   "metadata": {},
   "outputs": [],
   "source": [
    "def remove_annotations(target):\n",
    "    result = ''\n",
    "    result = re.sub(r'\\[[0-9]+[a-z]{1}\\]\\sI.+', '', target)\n",
    "    result = re.sub(r'\\n', '', result)\n",
    "    return result"
   ]
  },
  {
   "cell_type": "code",
   "execution_count": 17,
   "metadata": {},
   "outputs": [],
   "source": [
    "def get_content(poti_path):\n",
    "    return poti_path.read_text(encoding = 'utf-8')"
   ]
  },
  {
   "cell_type": "code",
   "execution_count": 27,
   "metadata": {},
   "outputs": [],
   "source": [
    "sources = list(Path(f'./clean_kangyur_google_text').iterdir())\n",
    "sources.sort()\n",
    "targets = list(Path(f'./numbered_kangyur_namsel').iterdir())\n",
    "targets.sort()"
   ]
  },
  {
   "cell_type": "code",
   "execution_count": 28,
   "metadata": {},
   "outputs": [
    {
     "data": {
      "text/plain": [
       "[PosixPath('numbered_kangyur_namsel/v001'),\n",
       " PosixPath('numbered_kangyur_namsel/v002'),\n",
       " PosixPath('numbered_kangyur_namsel/v003'),\n",
       " PosixPath('numbered_kangyur_namsel/v004'),\n",
       " PosixPath('numbered_kangyur_namsel/v005'),\n",
       " PosixPath('numbered_kangyur_namsel/v006'),\n",
       " PosixPath('numbered_kangyur_namsel/v007'),\n",
       " PosixPath('numbered_kangyur_namsel/v008'),\n",
       " PosixPath('numbered_kangyur_namsel/v009'),\n",
       " PosixPath('numbered_kangyur_namsel/v010'),\n",
       " PosixPath('numbered_kangyur_namsel/v011'),\n",
       " PosixPath('numbered_kangyur_namsel/v012'),\n",
       " PosixPath('numbered_kangyur_namsel/v013'),\n",
       " PosixPath('numbered_kangyur_namsel/v014'),\n",
       " PosixPath('numbered_kangyur_namsel/v015'),\n",
       " PosixPath('numbered_kangyur_namsel/v016'),\n",
       " PosixPath('numbered_kangyur_namsel/v017'),\n",
       " PosixPath('numbered_kangyur_namsel/v018'),\n",
       " PosixPath('numbered_kangyur_namsel/v019'),\n",
       " PosixPath('numbered_kangyur_namsel/v020'),\n",
       " PosixPath('numbered_kangyur_namsel/v021'),\n",
       " PosixPath('numbered_kangyur_namsel/v022'),\n",
       " PosixPath('numbered_kangyur_namsel/v023'),\n",
       " PosixPath('numbered_kangyur_namsel/v024'),\n",
       " PosixPath('numbered_kangyur_namsel/v025'),\n",
       " PosixPath('numbered_kangyur_namsel/v026'),\n",
       " PosixPath('numbered_kangyur_namsel/v027'),\n",
       " PosixPath('numbered_kangyur_namsel/v028'),\n",
       " PosixPath('numbered_kangyur_namsel/v029'),\n",
       " PosixPath('numbered_kangyur_namsel/v030'),\n",
       " PosixPath('numbered_kangyur_namsel/v031'),\n",
       " PosixPath('numbered_kangyur_namsel/v032'),\n",
       " PosixPath('numbered_kangyur_namsel/v033'),\n",
       " PosixPath('numbered_kangyur_namsel/v034'),\n",
       " PosixPath('numbered_kangyur_namsel/v035'),\n",
       " PosixPath('numbered_kangyur_namsel/v036'),\n",
       " PosixPath('numbered_kangyur_namsel/v037'),\n",
       " PosixPath('numbered_kangyur_namsel/v038'),\n",
       " PosixPath('numbered_kangyur_namsel/v039'),\n",
       " PosixPath('numbered_kangyur_namsel/v040'),\n",
       " PosixPath('numbered_kangyur_namsel/v041'),\n",
       " PosixPath('numbered_kangyur_namsel/v042'),\n",
       " PosixPath('numbered_kangyur_namsel/v043'),\n",
       " PosixPath('numbered_kangyur_namsel/v044'),\n",
       " PosixPath('numbered_kangyur_namsel/v045'),\n",
       " PosixPath('numbered_kangyur_namsel/v046'),\n",
       " PosixPath('numbered_kangyur_namsel/v047'),\n",
       " PosixPath('numbered_kangyur_namsel/v048'),\n",
       " PosixPath('numbered_kangyur_namsel/v049'),\n",
       " PosixPath('numbered_kangyur_namsel/v050'),\n",
       " PosixPath('numbered_kangyur_namsel/v051'),\n",
       " PosixPath('numbered_kangyur_namsel/v052'),\n",
       " PosixPath('numbered_kangyur_namsel/v053'),\n",
       " PosixPath('numbered_kangyur_namsel/v054'),\n",
       " PosixPath('numbered_kangyur_namsel/v055'),\n",
       " PosixPath('numbered_kangyur_namsel/v056'),\n",
       " PosixPath('numbered_kangyur_namsel/v057'),\n",
       " PosixPath('numbered_kangyur_namsel/v058'),\n",
       " PosixPath('numbered_kangyur_namsel/v059'),\n",
       " PosixPath('numbered_kangyur_namsel/v060'),\n",
       " PosixPath('numbered_kangyur_namsel/v061'),\n",
       " PosixPath('numbered_kangyur_namsel/v062'),\n",
       " PosixPath('numbered_kangyur_namsel/v063'),\n",
       " PosixPath('numbered_kangyur_namsel/v064'),\n",
       " PosixPath('numbered_kangyur_namsel/v065'),\n",
       " PosixPath('numbered_kangyur_namsel/v066'),\n",
       " PosixPath('numbered_kangyur_namsel/v067'),\n",
       " PosixPath('numbered_kangyur_namsel/v068'),\n",
       " PosixPath('numbered_kangyur_namsel/v069'),\n",
       " PosixPath('numbered_kangyur_namsel/v070'),\n",
       " PosixPath('numbered_kangyur_namsel/v071'),\n",
       " PosixPath('numbered_kangyur_namsel/v072'),\n",
       " PosixPath('numbered_kangyur_namsel/v073'),\n",
       " PosixPath('numbered_kangyur_namsel/v074'),\n",
       " PosixPath('numbered_kangyur_namsel/v075'),\n",
       " PosixPath('numbered_kangyur_namsel/v076'),\n",
       " PosixPath('numbered_kangyur_namsel/v077'),\n",
       " PosixPath('numbered_kangyur_namsel/v078'),\n",
       " PosixPath('numbered_kangyur_namsel/v079'),\n",
       " PosixPath('numbered_kangyur_namsel/v080'),\n",
       " PosixPath('numbered_kangyur_namsel/v081'),\n",
       " PosixPath('numbered_kangyur_namsel/v082'),\n",
       " PosixPath('numbered_kangyur_namsel/v083'),\n",
       " PosixPath('numbered_kangyur_namsel/v084'),\n",
       " PosixPath('numbered_kangyur_namsel/v085'),\n",
       " PosixPath('numbered_kangyur_namsel/v086'),\n",
       " PosixPath('numbered_kangyur_namsel/v087'),\n",
       " PosixPath('numbered_kangyur_namsel/v088'),\n",
       " PosixPath('numbered_kangyur_namsel/v089'),\n",
       " PosixPath('numbered_kangyur_namsel/v090'),\n",
       " PosixPath('numbered_kangyur_namsel/v091'),\n",
       " PosixPath('numbered_kangyur_namsel/v092'),\n",
       " PosixPath('numbered_kangyur_namsel/v093'),\n",
       " PosixPath('numbered_kangyur_namsel/v094'),\n",
       " PosixPath('numbered_kangyur_namsel/v095'),\n",
       " PosixPath('numbered_kangyur_namsel/v096'),\n",
       " PosixPath('numbered_kangyur_namsel/v097'),\n",
       " PosixPath('numbered_kangyur_namsel/v098'),\n",
       " PosixPath('numbered_kangyur_namsel/v099'),\n",
       " PosixPath('numbered_kangyur_namsel/v100'),\n",
       " PosixPath('numbered_kangyur_namsel/v101'),\n",
       " PosixPath('numbered_kangyur_namsel/v102'),\n",
       " PosixPath('numbered_kangyur_namsel/v103'),\n",
       " PosixPath('numbered_kangyur_namsel/v104'),\n",
       " PosixPath('numbered_kangyur_namsel/v105'),\n",
       " PosixPath('numbered_kangyur_namsel/v106'),\n",
       " PosixPath('numbered_kangyur_namsel/v107'),\n",
       " PosixPath('numbered_kangyur_namsel/v108')]"
      ]
     },
     "execution_count": 28,
     "metadata": {},
     "output_type": "execute_result"
    }
   ],
   "source": [
    "targets"
   ]
  },
  {
   "cell_type": "code",
   "execution_count": 30,
   "metadata": {},
   "outputs": [
    {
     "name": "stdout",
     "output_type": "stream",
     "text": [
      "v055 and v054processing\n",
      "Annotation transfer started...\n",
      "Mapping annotations to tofu-IDs\n",
      "[INFO] Computing diffs ...\n",
      "[INFO] Diff computed!\n",
      "Transfering annotations...\n",
      "v055 completed..\n",
      "v056 and v055processing\n",
      "Annotation transfer started...\n",
      "Mapping annotations to tofu-IDs\n",
      "[INFO] Computing diffs ...\n",
      "[INFO] Diff computed!\n",
      "Transfering annotations...\n",
      "v056 completed..\n",
      "v057 and v056processing\n",
      "Annotation transfer started...\n",
      "Mapping annotations to tofu-IDs\n",
      "[INFO] Computing diffs ...\n"
     ]
    },
    {
     "ename": "KeyboardInterrupt",
     "evalue": "",
     "output_type": "error",
     "traceback": [
      "\u001b[0;31m---------------------------------------------------------------------------\u001b[0m",
      "\u001b[0;31mKeyboardInterrupt\u001b[0m                         Traceback (most recent call last)",
      "\u001b[0;32m<ipython-input-30-a1313975c9af>\u001b[0m in \u001b[0;36m<module>\u001b[0;34m\u001b[0m\n\u001b[1;32m      4\u001b[0m     \u001b[0mtarget\u001b[0m \u001b[0;34m=\u001b[0m \u001b[0mget_content\u001b[0m\u001b[0;34m(\u001b[0m\u001b[0mtarget_vol\u001b[0m\u001b[0;34m)\u001b[0m\u001b[0;34m\u001b[0m\u001b[0;34m\u001b[0m\u001b[0m\n\u001b[1;32m      5\u001b[0m     \u001b[0mtarget\u001b[0m \u001b[0;34m=\u001b[0m \u001b[0mremove_annotations\u001b[0m\u001b[0;34m(\u001b[0m\u001b[0mtarget\u001b[0m\u001b[0;34m)\u001b[0m\u001b[0;34m\u001b[0m\u001b[0;34m\u001b[0m\u001b[0m\n\u001b[0;32m----> 6\u001b[0;31m     \u001b[0mupdated_vol\u001b[0m \u001b[0;34m=\u001b[0m \u001b[0mannotation_transfer\u001b[0m\u001b[0;34m(\u001b[0m\u001b[0msource\u001b[0m\u001b[0;34m,\u001b[0m \u001b[0mtarget\u001b[0m\u001b[0;34m)\u001b[0m\u001b[0;34m\u001b[0m\u001b[0;34m\u001b[0m\u001b[0m\n\u001b[0m\u001b[1;32m      7\u001b[0m     \u001b[0mPath\u001b[0m\u001b[0;34m(\u001b[0m\u001b[0;34mf'./kangyur_namsel_transfered/{source_vol.stem}.txt'\u001b[0m\u001b[0;34m)\u001b[0m\u001b[0;34m.\u001b[0m\u001b[0mwrite_text\u001b[0m\u001b[0;34m(\u001b[0m\u001b[0mupdated_vol\u001b[0m\u001b[0;34m,\u001b[0m \u001b[0mencoding\u001b[0m\u001b[0;34m=\u001b[0m\u001b[0;34m'utf-8'\u001b[0m\u001b[0;34m)\u001b[0m\u001b[0;34m\u001b[0m\u001b[0;34m\u001b[0m\u001b[0m\n\u001b[1;32m      8\u001b[0m     \u001b[0mprint\u001b[0m\u001b[0;34m(\u001b[0m\u001b[0;34mf'{source_vol.stem} completed..'\u001b[0m\u001b[0;34m)\u001b[0m\u001b[0;34m\u001b[0m\u001b[0;34m\u001b[0m\u001b[0m\n",
      "\u001b[0;32m<ipython-input-15-82e22a6ba8f6>\u001b[0m in \u001b[0;36mannotation_transfer\u001b[0;34m(source, target)\u001b[0m\n\u001b[1;32m      1\u001b[0m \u001b[0;32mdef\u001b[0m \u001b[0mannotation_transfer\u001b[0m\u001b[0;34m(\u001b[0m\u001b[0msource\u001b[0m\u001b[0;34m,\u001b[0m \u001b[0mtarget\u001b[0m\u001b[0;34m)\u001b[0m\u001b[0;34m:\u001b[0m\u001b[0;34m\u001b[0m\u001b[0;34m\u001b[0m\u001b[0m\n\u001b[1;32m      2\u001b[0m     \u001b[0mannotations\u001b[0m \u001b[0;34m=\u001b[0m \u001b[0;34m[\u001b[0m\u001b[0;34m[\u001b[0m\u001b[0;34m'author'\u001b[0m\u001b[0;34m,\u001b[0m \u001b[0;34mr'(\\[[0-9]+[a-z]{1}\\])'\u001b[0m\u001b[0;34m]\u001b[0m\u001b[0;34m,\u001b[0m \u001b[0;34m[\u001b[0m\u001b[0;34m'author_end'\u001b[0m\u001b[0;34m,\u001b[0m \u001b[0;34mr'(\\n)'\u001b[0m\u001b[0;34m]\u001b[0m\u001b[0;34m]\u001b[0m\u001b[0;34m\u001b[0m\u001b[0;34m\u001b[0m\u001b[0m\n\u001b[0;32m----> 3\u001b[0;31m     \u001b[0mresult\u001b[0m \u001b[0;34m=\u001b[0m \u001b[0mtransfer\u001b[0m\u001b[0;34m(\u001b[0m\u001b[0msource\u001b[0m\u001b[0;34m,\u001b[0m \u001b[0mannotations\u001b[0m\u001b[0;34m,\u001b[0m \u001b[0mtarget\u001b[0m\u001b[0;34m,\u001b[0m \u001b[0moutput\u001b[0m\u001b[0;34m=\u001b[0m \u001b[0;34m\"txt\"\u001b[0m\u001b[0;34m,\u001b[0m \u001b[0moptimized\u001b[0m\u001b[0;34m=\u001b[0m\u001b[0;32mTrue\u001b[0m\u001b[0;34m)\u001b[0m\u001b[0;34m\u001b[0m\u001b[0;34m\u001b[0m\u001b[0m\n\u001b[0m\u001b[1;32m      4\u001b[0m     \u001b[0;32mreturn\u001b[0m \u001b[0mresult\u001b[0m\u001b[0;34m\u001b[0m\u001b[0;34m\u001b[0m\u001b[0m\n",
      "\u001b[0;32m~/.local/lib/python3.6/site-packages/antx/core.py\u001b[0m in \u001b[0;36mtransfer\u001b[0;34m(source, patterns, target, output, optimized)\u001b[0m\n\u001b[1;32m    158\u001b[0m \u001b[0;34m\u001b[0m\u001b[0m\n\u001b[1;32m    159\u001b[0m     \u001b[0mtofu_source\u001b[0m\u001b[0;34m,\u001b[0m \u001b[0mtofu_mapping\u001b[0m \u001b[0;34m=\u001b[0m \u001b[0mtag_to_tofu\u001b[0m\u001b[0;34m(\u001b[0m\u001b[0msource\u001b[0m\u001b[0;34m,\u001b[0m \u001b[0mpatterns\u001b[0m\u001b[0;34m)\u001b[0m\u001b[0;34m\u001b[0m\u001b[0;34m\u001b[0m\u001b[0m\n\u001b[0;32m--> 160\u001b[0;31m     \u001b[0mdiffs\u001b[0m \u001b[0;34m=\u001b[0m \u001b[0mget_diffs\u001b[0m\u001b[0;34m(\u001b[0m\u001b[0mtofu_source\u001b[0m\u001b[0;34m,\u001b[0m \u001b[0mtarget\u001b[0m\u001b[0;34m,\u001b[0m \u001b[0moptimized\u001b[0m\u001b[0;34m)\u001b[0m\u001b[0;34m\u001b[0m\u001b[0;34m\u001b[0m\u001b[0m\n\u001b[0m\u001b[1;32m    161\u001b[0m \u001b[0;34m\u001b[0m\u001b[0m\n\u001b[1;32m    162\u001b[0m     \u001b[0mfilterred_diff\u001b[0m \u001b[0;34m=\u001b[0m \u001b[0mfilter_diff\u001b[0m\u001b[0;34m(\u001b[0m\u001b[0mdiffs\u001b[0m\u001b[0;34m,\u001b[0m \u001b[0mtofu_mapping\u001b[0m\u001b[0;34m)\u001b[0m\u001b[0;34m\u001b[0m\u001b[0;34m\u001b[0m\u001b[0m\n",
      "\u001b[0;32m~/.local/lib/python3.6/site-packages/antx/core.py\u001b[0m in \u001b[0;36mget_diffs\u001b[0;34m(text1, text2, optimized)\u001b[0m\n\u001b[1;32m     27\u001b[0m         \u001b[0mdmp\u001b[0m \u001b[0;34m=\u001b[0m \u001b[0mdiff_match_patch\u001b[0m\u001b[0;34m(\u001b[0m\u001b[0;34m)\u001b[0m\u001b[0;34m\u001b[0m\u001b[0;34m\u001b[0m\u001b[0m\n\u001b[1;32m     28\u001b[0m         \u001b[0mdmp\u001b[0m\u001b[0;34m.\u001b[0m\u001b[0mDiff_Timeout\u001b[0m \u001b[0;34m=\u001b[0m \u001b[0;36m0\u001b[0m  \u001b[0;31m# compute diff till end of file\u001b[0m\u001b[0;34m\u001b[0m\u001b[0;34m\u001b[0m\u001b[0m\n\u001b[0;32m---> 29\u001b[0;31m     \u001b[0mdiffs\u001b[0m \u001b[0;34m=\u001b[0m \u001b[0mdmp\u001b[0m\u001b[0;34m.\u001b[0m\u001b[0mdiff_main\u001b[0m\u001b[0;34m(\u001b[0m\u001b[0mtext1\u001b[0m\u001b[0;34m,\u001b[0m \u001b[0mtext2\u001b[0m\u001b[0;34m)\u001b[0m\u001b[0;34m\u001b[0m\u001b[0;34m\u001b[0m\u001b[0m\n\u001b[0m\u001b[1;32m     30\u001b[0m     \u001b[0mprint\u001b[0m\u001b[0;34m(\u001b[0m\u001b[0;34m\"[INFO] Diff computed!\"\u001b[0m\u001b[0;34m)\u001b[0m\u001b[0;34m\u001b[0m\u001b[0;34m\u001b[0m\u001b[0m\n\u001b[1;32m     31\u001b[0m     \u001b[0;32mreturn\u001b[0m \u001b[0mdiffs\u001b[0m\u001b[0;34m\u001b[0m\u001b[0;34m\u001b[0m\u001b[0m\n",
      "\u001b[0;32m~/.local/lib/python3.6/site-packages/antx/utils.py\u001b[0m in \u001b[0;36mdiff_main\u001b[0;34m(self, text1, text2)\u001b[0m\n\u001b[1;32m    104\u001b[0m             \u001b[0;34m[\u001b[0m\u001b[0mself\u001b[0m\u001b[0;34m.\u001b[0m\u001b[0mbinary_path\u001b[0m\u001b[0;34m,\u001b[0m \u001b[0;34m\"diff\"\u001b[0m\u001b[0;34m,\u001b[0m \u001b[0mtext1_path\u001b[0m\u001b[0;34m,\u001b[0m \u001b[0mtext2_path\u001b[0m\u001b[0;34m]\u001b[0m\u001b[0;34m,\u001b[0m \u001b[0mstdout\u001b[0m\u001b[0;34m=\u001b[0m\u001b[0msubprocess\u001b[0m\u001b[0;34m.\u001b[0m\u001b[0mPIPE\u001b[0m\u001b[0;34m\u001b[0m\u001b[0;34m\u001b[0m\u001b[0m\n\u001b[1;32m    105\u001b[0m         )\n\u001b[0;32m--> 106\u001b[0;31m         \u001b[0mstdout\u001b[0m \u001b[0;34m=\u001b[0m \u001b[0mprocess\u001b[0m\u001b[0;34m.\u001b[0m\u001b[0mcommunicate\u001b[0m\u001b[0;34m(\u001b[0m\u001b[0;34m)\u001b[0m\u001b[0;34m[\u001b[0m\u001b[0;36m0\u001b[0m\u001b[0;34m]\u001b[0m\u001b[0;34m\u001b[0m\u001b[0;34m\u001b[0m\u001b[0m\n\u001b[0m\u001b[1;32m    107\u001b[0m         \u001b[0mdiffs\u001b[0m \u001b[0;34m=\u001b[0m \u001b[0mjson\u001b[0m\u001b[0;34m.\u001b[0m\u001b[0mloads\u001b[0m\u001b[0;34m(\u001b[0m\u001b[0mstdout\u001b[0m\u001b[0;34m,\u001b[0m \u001b[0mencoding\u001b[0m\u001b[0;34m=\u001b[0m\u001b[0;34m'utf-8'\u001b[0m\u001b[0;34m)\u001b[0m\u001b[0;34m\u001b[0m\u001b[0;34m\u001b[0m\u001b[0m\n\u001b[1;32m    108\u001b[0m         \u001b[0mdiffs\u001b[0m \u001b[0;34m=\u001b[0m \u001b[0mself\u001b[0m\u001b[0;34m.\u001b[0m\u001b[0m_unescape_lr\u001b[0m\u001b[0;34m(\u001b[0m\u001b[0mdiffs\u001b[0m\u001b[0;34m)\u001b[0m\u001b[0;34m\u001b[0m\u001b[0;34m\u001b[0m\u001b[0m\n",
      "\u001b[0;32m/usr/lib/python3.6/subprocess.py\u001b[0m in \u001b[0;36mcommunicate\u001b[0;34m(self, input, timeout)\u001b[0m\n\u001b[1;32m    848\u001b[0m                 \u001b[0mself\u001b[0m\u001b[0;34m.\u001b[0m\u001b[0m_stdin_write\u001b[0m\u001b[0;34m(\u001b[0m\u001b[0minput\u001b[0m\u001b[0;34m)\u001b[0m\u001b[0;34m\u001b[0m\u001b[0;34m\u001b[0m\u001b[0m\n\u001b[1;32m    849\u001b[0m             \u001b[0;32melif\u001b[0m \u001b[0mself\u001b[0m\u001b[0;34m.\u001b[0m\u001b[0mstdout\u001b[0m\u001b[0;34m:\u001b[0m\u001b[0;34m\u001b[0m\u001b[0;34m\u001b[0m\u001b[0m\n\u001b[0;32m--> 850\u001b[0;31m                 \u001b[0mstdout\u001b[0m \u001b[0;34m=\u001b[0m \u001b[0mself\u001b[0m\u001b[0;34m.\u001b[0m\u001b[0mstdout\u001b[0m\u001b[0;34m.\u001b[0m\u001b[0mread\u001b[0m\u001b[0;34m(\u001b[0m\u001b[0;34m)\u001b[0m\u001b[0;34m\u001b[0m\u001b[0;34m\u001b[0m\u001b[0m\n\u001b[0m\u001b[1;32m    851\u001b[0m                 \u001b[0mself\u001b[0m\u001b[0;34m.\u001b[0m\u001b[0mstdout\u001b[0m\u001b[0;34m.\u001b[0m\u001b[0mclose\u001b[0m\u001b[0;34m(\u001b[0m\u001b[0;34m)\u001b[0m\u001b[0;34m\u001b[0m\u001b[0;34m\u001b[0m\u001b[0m\n\u001b[1;32m    852\u001b[0m             \u001b[0;32melif\u001b[0m \u001b[0mself\u001b[0m\u001b[0;34m.\u001b[0m\u001b[0mstderr\u001b[0m\u001b[0;34m:\u001b[0m\u001b[0;34m\u001b[0m\u001b[0;34m\u001b[0m\u001b[0m\n",
      "\u001b[0;31mKeyboardInterrupt\u001b[0m: "
     ]
    }
   ],
   "source": [
    "for source_vol, target_vol in zip(sources[54:],targets[53:]):\n",
    "    print(f'{source_vol.stem} and {target_vol.stem}processing')\n",
    "    source = get_content(source_vol)\n",
    "    target = get_content(target_vol)\n",
    "    target = remove_annotations(target)\n",
    "    updated_vol = annotation_transfer(source, target)\n",
    "    Path(f'./kangyur_namsel_transfered/{source_vol.stem}.txt').write_text(updated_vol, encoding='utf-8')\n",
    "    print(f'{source_vol.stem} completed..')"
   ]
  },
  {
   "cell_type": "code",
   "execution_count": 11,
   "metadata": {},
   "outputs": [],
   "source": [
    "text = \"\"\"[5a] I1PD967840012\n",
    "འདུལ་བ། (སྤྱིལྗི (༡)༠༠༠༡ འདུལ་བ་གཞི། ་་་་་་་་་་་་་་་་་་་་་་་་་་་་་་་་་་་་་་་་་་་་་༣རབ་ཏུ་འབྱུང་བའི་གཞི་འཆད་པ། ་་་་་་་་་་་་་་་་་་་་་་་་་་་་་་༣ཤཱ་རིའི་བུའི་སྡེ་ཚན།་་་་་་་་་་་་་་་་་་་་་་་་་་་་་་་་་་་་་་་་་་༣མུ་སྟེགས་ཅན་གྱི་སྡེ་ཚན། ་་་་་་་་་་་་་་་་་་་་་་་་་་་་་་་་་་་་༡༦༨དགེ་ཚུལ་གཉིས་ཀྱི་སྡེ་ཚན། ་་་་་་་་་་་་་་་་་་་་་་་་་་་་་་་་་༡༧༦བྱ་རོག་སྤྲོད་ཀྱི་སྡེ་ཚན། ་་་་་་་་་་་་་་་་་་་་་་་་་་་་་་་་་་་་༡༩༧དགྲ་བཅོམ་བསད་པའི་སྡེ་ཚན། ་་་་་་་་་་་་་་་་་་་་་་་་་་་་་་༢༩༩ལག་རྡུམ་གྱི་སྡེ་ཚན། ་་་་་་་་་་་་་་་་་་་་་་་་་་་་་་་་་་་་་་་༣༠༥གསོ་སྨྱོང་གི་གཞི་འཆད་བ། ་་་་་་་་་་་་་་་་་་་་་་་་་་་་་་་་་༣༠༨མུ་སྟེགས་ཅན་གྱི་སྡེ་ཚན། ་་་་་་་་་་་་་་་་་་་་་་་་་་་་་་་་་་་་༣༠༨ཀ་བི་ནའི་སྡེ་ཚན།་་་་་་་་་་་་་་་་་་་་་་་་་་་་་་་་་་་་་་་་་་༣༢༣གནས་ཀྱི་སྡེ་ཚན།་་་་་་་་་་་་་་་་་་་་་་་་་་་་་་་་་་་་་་་་་་༣༤༦རྒྱལ་པོའི་སྡེ་ཚན།་་་་་་་་་་་་་་་་་་་་་་་་་་་་་་་་་་་་་་་་་་༣༥༧སྦྱར་བ་མང་པོའི་སྡེ་ཚན། ་་་་་་་་་་་་་་་་་་་་་་་་་་་་་་་་་་་་༣༧༣— 1\"\"\""
   ]
  },
  {
   "cell_type": "code",
   "execution_count": 12,
   "metadata": {},
   "outputs": [],
   "source": [
    "t = remove_annotations(text)"
   ]
  },
  {
   "cell_type": "code",
   "execution_count": 13,
   "metadata": {},
   "outputs": [
    {
     "data": {
      "text/plain": [
       "'འདུལ་བ། (སྤྱིལྗི (༡)༠༠༠༡ འདུལ་བ་གཞི། ་་་་་་་་་་་་་་་་་་་་་་་་་་་་་་་་་་་་་་་་་་་་་༣རབ་ཏུ་འབྱུང་བའི་གཞི་འཆད་པ། ་་་་་་་་་་་་་་་་་་་་་་་་་་་་་་༣ཤཱ་རིའི་བུའི་སྡེ་ཚན།་་་་་་་་་་་་་་་་་་་་་་་་་་་་་་་་་་་་་་་་་་༣མུ་སྟེགས་ཅན་གྱི་སྡེ་ཚན། ་་་་་་་་་་་་་་་་་་་་་་་་་་་་་་་་་་་་༡༦༨དགེ་ཚུལ་གཉིས་ཀྱི་སྡེ་ཚན། ་་་་་་་་་་་་་་་་་་་་་་་་་་་་་་་་་༡༧༦བྱ་རོག་སྤྲོད་ཀྱི་སྡེ་ཚན། ་་་་་་་་་་་་་་་་་་་་་་་་་་་་་་་་་་་་༡༩༧དགྲ་བཅོམ་བསད་པའི་སྡེ་ཚན། ་་་་་་་་་་་་་་་་་་་་་་་་་་་་་་༢༩༩ལག་རྡུམ་གྱི་སྡེ་ཚན། ་་་་་་་་་་་་་་་་་་་་་་་་་་་་་་་་་་་་་་་༣༠༥གསོ་སྨྱོང་གི་གཞི་འཆད་བ། ་་་་་་་་་་་་་་་་་་་་་་་་་་་་་་་་་༣༠༨མུ་སྟེགས་ཅན་གྱི་སྡེ་ཚན། ་་་་་་་་་་་་་་་་་་་་་་་་་་་་་་་་་་་་༣༠༨ཀ་བི་ནའི་སྡེ་ཚན།་་་་་་་་་་་་་་་་་་་་་་་་་་་་་་་་་་་་་་་་་་༣༢༣གནས་ཀྱི་སྡེ་ཚན།་་་་་་་་་་་་་་་་་་་་་་་་་་་་་་་་་་་་་་་་་་༣༤༦རྒྱལ་པོའི་སྡེ་ཚན།་་་་་་་་་་་་་་་་་་་་་་་་་་་་་་་་་་་་་་་་་་༣༥༧སྦྱར་བ་མང་པོའི་སྡེ་ཚན། ་་་་་་་་་་་་་་་་་་་་་་་་་་་་་་་་་་་་༣༧༣— 1'"
      ]
     },
     "execution_count": 13,
     "metadata": {},
     "output_type": "execute_result"
    }
   ],
   "source": [
    "t"
   ]
  },
  {
   "cell_type": "code",
   "execution_count": null,
   "metadata": {},
   "outputs": [],
   "source": [
    "this the world of the greatst showman ever lived called tenzin kunsang\n",
    "\n"
   ]
  }
 ],
 "metadata": {
  "kernelspec": {
   "display_name": "Python 3",
   "language": "python",
   "name": "python3"
  },
  "language_info": {
   "codemirror_mode": {
    "name": "ipython",
    "version": 3
   },
   "file_extension": ".py",
   "mimetype": "text/x-python",
   "name": "python",
   "nbconvert_exporter": "python",
   "pygments_lexer": "ipython3",
   "version": "3.6.9"
  }
 },
 "nbformat": 4,
 "nbformat_minor": 4
}
